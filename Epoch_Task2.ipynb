{
 "cells": [
  {
   "cell_type": "markdown",
   "id": "d90a6273-199f-4bd8-8fa4-fe51d08dae2b",
   "metadata": {},
   "source": [
    "# THINGS TO DO BEFORE TASK SUBMISSION\n",
    "- Check the markdown boxes made below in task 1 and task 2\n",
    "- Add References\n",
    "\n",
    "# THINGS TO DO BEFORE INTERVIEW\n",
    "- Revise CNNs and it's working. Be clear with how it works.\n",
    "- Revise RNNs and LSTMs and it's working too\n",
    "- Revise the exact process of an ANN."
   ]
  },
  {
   "cell_type": "markdown",
   "id": "88387606-ac95-4a1d-82a9-fa8b3f42ead7",
   "metadata": {},
   "source": [
    "# Load and Preprocess the Data\n",
    "## Import Time."
   ]
  },
  {
   "cell_type": "code",
   "execution_count": 217,
   "id": "612ca5be-bd88-4e7e-848f-7a3ab5e5b1a4",
   "metadata": {},
   "outputs": [],
   "source": [
    "import tensorflow as tf\n",
    "# Note, had some trouble importing keras over here, so the code creating the models is a bit wordy, but it's the same \n",
    "# thing as usual code\n",
    "import pandas as pd\n",
    "import numpy as np\n",
    "from PIL import Image\n",
    "import matplotlib.pyplot as plt\n",
    "import os\n",
    "from sklearn.model_selection import train_test_split"
   ]
  },
  {
   "cell_type": "code",
   "execution_count": 219,
   "id": "516d53af-2ced-49b9-a2df-56fb9360d3df",
   "metadata": {},
   "outputs": [
    {
     "ename": "ModuleNotFoundError",
     "evalue": "No module named 'tensorflow.keras'",
     "output_type": "error",
     "traceback": [
      "\u001b[0;31m---------------------------------------------------------------------------\u001b[0m",
      "\u001b[0;31mModuleNotFoundError\u001b[0m                       Traceback (most recent call last)",
      "Cell \u001b[0;32mIn[219], line 2\u001b[0m\n\u001b[1;32m      1\u001b[0m \u001b[38;5;66;03m# On my system, running this throws an error. That's why I'll be using tensorflow.xyz.xyz.xyz\u001b[39;00m\n\u001b[0;32m----> 2\u001b[0m \u001b[38;5;28;01mfrom\u001b[39;00m \u001b[38;5;21;01mtensorflow\u001b[39;00m\u001b[38;5;21;01m.\u001b[39;00m\u001b[38;5;21;01mkeras\u001b[39;00m\u001b[38;5;21;01m.\u001b[39;00m\u001b[38;5;21;01mpreprocessing\u001b[39;00m\u001b[38;5;21;01m.\u001b[39;00m\u001b[38;5;21;01mtext\u001b[39;00m \u001b[38;5;28;01mimport\u001b[39;00m Tokenizer\n\u001b[1;32m      3\u001b[0m \u001b[38;5;28;01mfrom\u001b[39;00m \u001b[38;5;21;01mtensorflow\u001b[39;00m\u001b[38;5;21;01m.\u001b[39;00m\u001b[38;5;21;01mkeras\u001b[39;00m\u001b[38;5;21;01m.\u001b[39;00m\u001b[38;5;21;01mpreprocessing\u001b[39;00m\u001b[38;5;21;01m.\u001b[39;00m\u001b[38;5;21;01msequence\u001b[39;00m \u001b[38;5;28;01mimport\u001b[39;00m pad_sequences\n",
      "\u001b[0;31mModuleNotFoundError\u001b[0m: No module named 'tensorflow.keras'"
     ]
    }
   ],
   "source": [
    "# On my system, running this throws an error. That's why I'll be using tensorflow.xyz.xyz.xyz\n",
    "from tensorflow.keras.preprocessing.text import Tokenizer\n",
    "from tensorflow.keras.preprocessing.sequence import pad_sequences"
   ]
  },
  {
   "cell_type": "code",
   "execution_count": 309,
   "id": "f9e9d46c-acac-4229-aa7d-96b161f25a3c",
   "metadata": {
    "scrolled": true
   },
   "outputs": [
    {
     "name": "stdout",
     "output_type": "stream",
     "text": [
      "0\n",
      "1000\n",
      "2000\n",
      "3000\n",
      "4000\n",
      "5000\n",
      "6000\n",
      "7000\n",
      "8000\n",
      "9000\n",
      "10000\n",
      "11000\n",
      "12000\n",
      "13000\n",
      "14000\n",
      "15000\n",
      "16000\n",
      "17000\n",
      "18000\n",
      "19000\n",
      "20000\n",
      "21000\n",
      "22000\n",
      "23000\n",
      "24000\n",
      "25000\n",
      "26000\n",
      "27000\n",
      "28000\n",
      "29000\n",
      "30000\n",
      "31000\n",
      "32000\n",
      "33000\n",
      "34000\n",
      "35000\n",
      "36000\n",
      "37000\n",
      "38000\n",
      "39000\n",
      "40000\n",
      "41000\n",
      "42000\n",
      "43000\n",
      "44000\n",
      "45000\n",
      "46000\n",
      "47000\n",
      "48000\n",
      "49000\n",
      "50000\n",
      "51000\n",
      "52000\n",
      "53000\n",
      "54000\n",
      "55000\n",
      "56000\n",
      "57000\n",
      "58000\n",
      "59000\n",
      "60000\n",
      "61000\n",
      "62000\n",
      "63000\n",
      "64000\n",
      "65000\n",
      "66000\n",
      "67000\n",
      "68000\n",
      "69000\n",
      "70000\n",
      "71000\n",
      "72000\n",
      "73000\n",
      "74000\n",
      "75000\n",
      "76000\n",
      "77000\n",
      "78000\n",
      "79000\n",
      "80000\n",
      "81000\n",
      "82000\n",
      "83000\n",
      "84000\n",
      "85000\n",
      "86000\n",
      "87000\n",
      "88000\n",
      "89000\n",
      "90000\n",
      "91000\n",
      "92000\n",
      "93000\n",
      "94000\n",
      "95000\n",
      "96000\n",
      "97000\n",
      "98000\n",
      "99000\n",
      "100000\n",
      "101000\n",
      "102000\n",
      "103000\n",
      "104000\n",
      "105000\n",
      "106000\n",
      "107000\n",
      "108000\n",
      "109000\n",
      "110000\n",
      "111000\n",
      "112000\n",
      "113000\n",
      "114000\n",
      "115000\n",
      "116000\n",
      "117000\n",
      "118000\n",
      "119000\n",
      "120000\n",
      "121000\n",
      "122000\n",
      "123000\n",
      "124000\n",
      "125000\n",
      "126000\n",
      "127000\n",
      "128000\n",
      "129000\n",
      "130000\n",
      "131000\n",
      "132000\n",
      "133000\n",
      "134000\n",
      "135000\n",
      "136000\n",
      "137000\n",
      "138000\n",
      "139000\n",
      "140000\n",
      "141000\n",
      "142000\n",
      "143000\n",
      "144000\n",
      "145000\n",
      "146000\n",
      "147000\n",
      "148000\n",
      "149000\n",
      "150000\n",
      "151000\n",
      "152000\n",
      "153000\n",
      "154000\n",
      "155000\n",
      "156000\n",
      "157000\n",
      "158000\n",
      "159000\n",
      "160000\n",
      "161000\n",
      "162000\n",
      "163000\n",
      "164000\n",
      "165000\n",
      "166000\n",
      "167000\n",
      "168000\n",
      "169000\n",
      "170000\n",
      "171000\n",
      "172000\n",
      "173000\n",
      "174000\n",
      "175000\n",
      "176000\n",
      "177000\n",
      "178000\n",
      "179000\n",
      "180000\n",
      "181000\n",
      "182000\n",
      "183000\n",
      "184000\n",
      "185000\n",
      "186000\n",
      "187000\n",
      "188000\n",
      "189000\n",
      "190000\n",
      "191000\n",
      "192000\n",
      "193000\n",
      "194000\n",
      "195000\n",
      "196000\n",
      "197000\n",
      "198000\n",
      "199000\n",
      "200000\n",
      "201000\n",
      "202000\n",
      "203000\n",
      "204000\n",
      "205000\n",
      "206000\n",
      "207000\n",
      "208000\n",
      "209000\n",
      "210000\n",
      "211000\n",
      "212000\n",
      "213000\n",
      "214000\n",
      "215000\n",
      "216000\n",
      "217000\n",
      "218000\n",
      "219000\n",
      "220000\n",
      "221000\n",
      "222000\n",
      "223000\n",
      "224000\n",
      "225000\n",
      "226000\n",
      "227000\n",
      "228000\n",
      "229000\n",
      "230000\n",
      "231000\n",
      "232000\n",
      "233000\n",
      "234000\n",
      "235000\n",
      "236000\n",
      "237000\n",
      "238000\n",
      "239000\n",
      "240000\n",
      "241000\n",
      "242000\n",
      "243000\n",
      "244000\n",
      "245000\n",
      "246000\n",
      "247000\n",
      "248000\n",
      "249000\n",
      "250000\n",
      "251000\n",
      "252000\n",
      "253000\n",
      "254000\n",
      "255000\n",
      "256000\n",
      "257000\n",
      "258000\n",
      "259000\n",
      "260000\n",
      "261000\n",
      "262000\n",
      "263000\n",
      "264000\n",
      "265000\n",
      "266000\n",
      "267000\n",
      "268000\n",
      "269000\n",
      "270000\n",
      "271000\n",
      "272000\n",
      "273000\n",
      "274000\n",
      "275000\n",
      "276000\n",
      "277000\n",
      "278000\n",
      "279000\n",
      "280000\n",
      "281000\n",
      "282000\n",
      "283000\n",
      "284000\n",
      "285000\n",
      "286000\n",
      "287000\n",
      "288000\n",
      "289000\n",
      "290000\n",
      "291000\n",
      "292000\n",
      "293000\n",
      "294000\n",
      "295000\n",
      "296000\n",
      "297000\n",
      "298000\n",
      "299000\n",
      "300000\n",
      "301000\n",
      "302000\n",
      "303000\n",
      "304000\n",
      "305000\n",
      "306000\n",
      "307000\n",
      "308000\n",
      "309000\n",
      "310000\n",
      "311000\n",
      "312000\n",
      "313000\n",
      "314000\n",
      "315000\n",
      "316000\n",
      "317000\n",
      "318000\n",
      "319000\n",
      "320000\n",
      "321000\n",
      "322000\n",
      "323000\n",
      "324000\n",
      "325000\n",
      "326000\n",
      "327000\n",
      "328000\n",
      "329000\n",
      "330000\n",
      "331000\n",
      "332000\n",
      "333000\n",
      "334000\n",
      "335000\n",
      "336000\n",
      "337000\n",
      "338000\n",
      "339000\n",
      "340000\n",
      "341000\n",
      "342000\n",
      "343000\n",
      "344000\n",
      "345000\n",
      "346000\n",
      "347000\n",
      "348000\n",
      "349000\n",
      "350000\n",
      "351000\n",
      "352000\n",
      "353000\n",
      "354000\n",
      "355000\n",
      "356000\n",
      "357000\n",
      "358000\n",
      "359000\n",
      "360000\n",
      "361000\n",
      "362000\n",
      "363000\n",
      "364000\n",
      "365000\n",
      "366000\n",
      "367000\n",
      "368000\n",
      "369000\n",
      "370000\n",
      "371000\n",
      "372000\n"
     ]
    }
   ],
   "source": [
    "# NOTE! This code took around 10-15 minutes to load for me\n",
    "\n",
    "path = 'alphabets_dataset/alphabet_images'\n",
    "sorted_filenames = sorted(os.listdir(path))\n",
    "image_list = []\n",
    "reference = 0\n",
    "for image in sorted_filenames:\n",
    "    # Chosing to use Pillow / Image module instead of OpenCV so as to get used to using these modules for more general purposes.\n",
    "    img = Image.open(os.path.join(path, image))\n",
    "    img = img.resize((28, 28))\n",
    "    img = np.array(img)\n",
    "    image_list.append(img)\n",
    "    if reference % 1000 == 0:\n",
    "        print(reference)\n",
    "    reference += 1\n",
    "\n",
    "image_list = np.array(image_list)"
   ]
  },
  {
   "cell_type": "markdown",
   "id": "431bf4f7-1983-48ce-ac89-ee5d241f35e2",
   "metadata": {},
   "source": [
    "## Preprocessing"
   ]
  },
  {
   "cell_type": "code",
   "execution_count": 311,
   "id": "756b0d8d-f8c1-4b87-aea3-261528da772e",
   "metadata": {},
   "outputs": [
    {
     "name": "stdout",
     "output_type": "stream",
     "text": [
      "<class 'numpy.ndarray'>\n",
      "Images' shape: (372451, 28, 28)\n",
      "Labels' shape: (372451,)\n"
     ]
    }
   ],
   "source": [
    "# Reading just the labels\n",
    "labels_df = pd.read_csv('alphabets_dataset/alphabet_labels.csv')\n",
    "\n",
    "labels_df = labels_df.sort_values(by='file')\n",
    "labels = labels_df['label'].values\n",
    "print(type(labels))\n",
    "\n",
    "# Encode labels\n",
    "from sklearn.preprocessing import LabelEncoder\n",
    "label_encoder = LabelEncoder()\n",
    "labels_encoded = label_encoder.fit_transform(labels)\n",
    "labels = labels_encoded\n",
    "\n",
    "print(f\"Images' shape: {image_list.shape}\")\n",
    "print(f\"Labels' shape: {labels.shape}\")"
   ]
  },
  {
   "cell_type": "code",
   "execution_count": 312,
   "id": "5d32caae-2490-4879-8ee6-39b83d63e410",
   "metadata": {
    "scrolled": true
   },
   "outputs": [
    {
     "name": "stdout",
     "output_type": "stream",
     "text": [
      "[[  0   0   0   0   0   0   0   0   0   0   0   0   0   0   0   0   0   0\n",
      "    0   0   0   0   0   0   0   0   0   0]\n",
      " [  0   0   0   0   0   0   0   0   0   0   0   0   0   0   0   0   0   0\n",
      "    0   0   0   0   0   0   0   0   0   0]\n",
      " [  0   0   0   0   0   0   0   0   0   0   0   0   0   0   0   0   0   0\n",
      "    0   0   0   0   0   0   0   0   0   0]\n",
      " [  0   0   0   0   0   0   0   0   0   0   0   0   0   0   5  24  26   8\n",
      "    0   0   0   0   0   0   0   0   0   0]\n",
      " [  0   0   0   0   0   0   0   0   0   0   0   0   0   1  51 175 180  64\n",
      "    0   0   0   0   0   0   0   0   0   0]\n",
      " [  0   0   0   0   0   0   0   0   0   0   0   0   0  10 130 239 231 108\n",
      "    4   0   0   0   0   0   0   0   0   0]\n",
      " [  0   0   0   0   0   0   0   0   0   0   0   0   2  43 206 254 233 120\n",
      "    6   0   0   0   0   0   0   0   0   0]\n",
      " [  0   0   0   0   0   0   0   0   0   0   0   0  28 143 246 255 240 151\n",
      "   10   0   0   0   0   0   0   0   0   0]\n",
      " [  0   0   0   0   0   0   0   0   0   0   0  18 105 231 252 250 244 172\n",
      "   13   0   0   0   0   0   0   0   0   0]\n",
      " [  0   0   0   0   0   0   0   0   0   0   2  68 200 254 206 204 235 177\n",
      "   13   0   0   0   0   0   0   0   0   0]\n",
      " [  0   0   0   0   0   0   0   0   0   0  18 124 235 233 114 154 224 168\n",
      "   12   0   0   0   0   0   0   0   0   0]\n",
      " [  0   0   0   0   0   0   0   0   0   0  63 199 240 152  30 136 213 124\n",
      "    3   0   0   0   0   0   0   0   0   0]\n",
      " [  0   0   0   0   0   0   0   0   0  12 121 234 236 115  42 148 216 128\n",
      "   27  22  16   3   0   0   0   0   0   0]\n",
      " [  0   0   0   0   0   0   0   0   6  74 205 252 252 229 195 216 238 203\n",
      "  162 161 121  24   0   0   0   0   0   0]\n",
      " [  0   0   0   0   0   0   0   0  21 154 243 255 255 244 241 245 253 250\n",
      "  239 233 181  36   0   0   0   0   0   0]\n",
      " [  0   0   0   0   0   0   0   4  55 230 254 240 203 137 147 187 241 239\n",
      "  168 121  72  13   0   0   0   0   0   0]\n",
      " [  0   0   0   0   0   0   0  12  94 248 241 142  46  16  19  94 216 187\n",
      "   34  13   5   1   0   0   0   0   0   0]\n",
      " [  0   0   0   0   0   0   0  43 191 255 209  60   0   0   0  78 213 182\n",
      "   12   0   0   0   0   0   0   0   0   0]\n",
      " [  0   0   0   0   0   0  13 107 238 255 157  29   0   0   0  72 216 209\n",
      "   26   0   0   0   0   0   0   0   0   0]\n",
      " [  0   0   0   0   0   0  33 176 252 228  85  11   0   0   0  40 193 223\n",
      "   43   1   0   0   0   0   0   0   0   0]\n",
      " [  0   0   0   0   0   0  22 125 187 125  23   1   0   0   0  25 160 228\n",
      "  106  10   0   0   0   0   0   0   0   0]\n",
      " [  0   0   0   0   0   0   3  17  27  15   1   0   0   0   0  18 132 232\n",
      "  180  22   0   0   0   0   0   0   0   0]\n",
      " [  0   0   0   0   0   0   0   0   0   0   0   0   0   0   0   7  91 232\n",
      "  225  34   0   0   0   0   0   0   0   0]\n",
      " [  0   0   0   0   0   0   0   0   0   0   0   0   0   0   0   4  71 189\n",
      "  146  19   0   0   0   0   0   0   0   0]\n",
      " [  0   0   0   0   0   0   0   0   0   0   0   0   0   0   0   1  11  28\n",
      "   18   2   0   0   0   0   0   0   0   0]\n",
      " [  0   0   0   0   0   0   0   0   0   0   0   0   0   0   0   0   0   0\n",
      "    0   0   0   0   0   0   0   0   0   0]\n",
      " [  0   0   0   0   0   0   0   0   0   0   0   0   0   0   0   0   0   0\n",
      "    0   0   0   0   0   0   0   0   0   0]\n",
      " [  0   0   0   0   0   0   0   0   0   0   0   0   0   0   0   0   0   0\n",
      "    0   0   0   0   0   0   0   0   0   0]]\n"
     ]
    },
    {
     "data": {
      "image/png": "[encoded data removed]",
      "text/plain": [
       "<Figure size 640x480 with 1 Axes>"
      ]
     },
     "metadata": {},
     "output_type": "display_data"
    }
   ],
   "source": [
    "print(image_list[0])\n",
    "plt.imshow(image_list_copy[0], cmap='gray')\n",
    "plt.title('First Image')\n",
    "plt.axis('off')\n",
    "plt.show()"
   ]
  },
  {
   "cell_type": "code",
   "execution_count": 313,
   "id": "3b4f8a37-0e46-41e4-bba9-c18c316c4190",
   "metadata": {},
   "outputs": [
    {
     "name": "stdout",
     "output_type": "stream",
     "text": [
      "Train data shape: (297960, 28, 28), Labels shape: (297960,)\n",
      "Test data shape: (74491, 28, 28), Labels shape: (74491,)\n"
     ]
    }
   ],
   "source": [
    "X_train, X_test, y_train, y_test = train_test_split(image_list, labels, test_size=0.2, random_state=45)\n",
    "X_train = X_train.astype('float32') / 255.0\n",
    "X_test = X_test.astype('float32') / 255.0\n",
    "\n",
    "print(f\"Train data shape: {X_train.shape}, Labels shape: {y_train.shape}\")\n",
    "print(f\"Test data shape: {X_test.shape}, Labels shape: {y_test.shape}\")"
   ]
  },
  {
   "cell_type": "markdown",
   "id": "a64521bb-b4c6-4051-a73c-a150b4727f59",
   "metadata": {},
   "source": [
    "# Creating the CNN\n",
    "We set the input size as 28x28 (for ease to work with) and we don't set too many convolutional layers since the problem does not have too much complexity (with more layers, likelihood of overfitting increases). Then setting number of perceptrons / filters to be some power of 2, but not too large so as to prevent overfitting. Then we use the Adam optimizer for the gradient descent and sparse_categorical_crossentropy as the loss metric as it's a multiple option classification problem."
   ]
  },
  {
   "cell_type": "code",
   "execution_count": null,
   "id": "5927db23-da96-472c-a5c3-dca9bb2097fd",
   "metadata": {},
   "outputs": [
    {
     "name": "stdout",
     "output_type": "stream",
     "text": [
      "Epoch 1/8\n",
      "\u001b[1m596/596\u001b[0m \u001b[32m━━━━━━━━━━━━━━━━━━━━\u001b[0m\u001b[37m\u001b[0m \u001b[1m302s\u001b[0m 501ms/step - accuracy: 0.7424 - loss: 0.9264 - val_accuracy: 0.9697 - val_loss: 0.1106\n",
      "Epoch 2/8\n",
      "\u001b[1m596/596\u001b[0m \u001b[32m━━━━━━━━━━━━━━━━━━━━\u001b[0m\u001b[37m\u001b[0m \u001b[1m320s\u001b[0m 537ms/step - accuracy: 0.9726 - loss: 0.0991 - val_accuracy: 0.9767 - val_loss: 0.0859\n",
      "Epoch 3/8\n",
      "\u001b[1m596/596\u001b[0m \u001b[32m━━━━━━━━━━━━━━━━━━━━\u001b[0m\u001b[37m\u001b[0m \u001b[1m231s\u001b[0m 387ms/step - accuracy: 0.9805 - loss: 0.0705 - val_accuracy: 0.9825 - val_loss: 0.0660\n",
      "Epoch 4/8\n",
      "\u001b[1m596/596\u001b[0m \u001b[32m━━━━━━━━━━━━━━━━━━━━\u001b[0m\u001b[37m\u001b[0m \u001b[1m201s\u001b[0m 338ms/step - accuracy: 0.9841 - loss: 0.0582 - val_accuracy: 0.9834 - val_loss: 0.0606\n",
      "Epoch 5/8\n",
      "\u001b[1m596/596\u001b[0m \u001b[32m━━━━━━━━━━━━━━━━━━━━\u001b[0m\u001b[37m\u001b[0m \u001b[1m222s\u001b[0m 372ms/step - accuracy: 0.9863 - loss: 0.0480 - val_accuracy: 0.9864 - val_loss: 0.0512\n",
      "Epoch 6/8\n",
      "\u001b[1m411/596\u001b[0m \u001b[32m━━━━━━━━━━━━━\u001b[0m\u001b[37m━━━━━━━\u001b[0m \u001b[1m1:05\u001b[0m 355ms/step - accuracy: 0.9877 - loss: 0.0430"
     ]
    }
   ],
   "source": [
    "# Define CNN model architecture\n",
    "# Chosing not to put dropout layers as the model is not overfitting\n",
    "cnn_model = tf.keras.models.Sequential([\n",
    "    tf.keras.layers.InputLayer(shape = (28, 28, 1)),\n",
    "    tf.keras.layers.Conv2D(32, (3, 3), activation='relu'),\n",
    "    tf.keras.layers.MaxPooling2D((2, 2)),\n",
    "    tf.keras.layers.Conv2D(64, (3, 3), activation='relu'),\n",
    "    tf.keras.layers.MaxPooling2D((2, 2)),\n",
    "    tf.keras.layers.Conv2D(64, (3, 3), activation='relu'),\n",
    "    tf.keras.layers.Flatten(),\n",
    "    tf.keras.layers.Dense(64, activation='relu'),\n",
    "    tf.keras.layers.Dense(27, activation='softmax')  # 26 classes (assuming one for each alphabet) (and one for non-alphabets (will be useful later))\n",
    "])\n",
    "\n",
    "# Compile the model\n",
    "cnn_model.compile(optimizer='adam',\n",
    "              loss='sparse_categorical_crossentropy',\n",
    "              metrics=['accuracy'])\n",
    "\n",
    "# Train the model\n",
    "history = cnn_model.fit(X_train, y_train, epochs=8, batch_size=500, validation_data=(X_test, y_test))\n",
    "\n",
    "# Evaluate the model\n",
    "test_loss, test_acc = cnn_model.evaluate(X_test, y_test, verbose=2)\n",
    "print(f'Test accuracy: {test_acc}')"
   ]
  },
  {
   "cell_type": "markdown",
   "id": "bb0bd087-ccc5-4fe1-a22a-dfe9f2d3a1d9",
   "metadata": {},
   "source": [
    "Do note. Some of the lack in accuracy could be caused by mistakes in the dataset too, so this accuracy should be taken with a pinch of salt. But 99% is still a very high value and can be believed with reasonably good confidence in a general scenario (unless it's my handwriting 😉)."
   ]
  },
  {
   "cell_type": "markdown",
   "id": "15937834-b6fd-460f-af09-c7c0a313183a",
   "metadata": {},
   "source": [
    "## Further ideas to implement for the classification model\n",
    "\n",
    "- Create an image generator based on the dataset and see how the model works on those images.\n",
    "- Use a dummy regressor for the alphabet classification model (not particularly required due to evidently good enough results) But. If someone wanted, it's simply\n",
    "(https://www.codecademy.com/paths/build-deep-learning-models-with-tensorflow/tracks/dlsp-getting-started-with-tensorflow/modules/dlsp-implementing-neural-networks/lessons/hyperparameter-tuning-neural/exercises/baselines-neural-network) \n",
    "- (NOT DOING! Since overfitting not happening) Dropout Layers (https://www.codecademy.com/paths/build-deep-learning-models-with-tensorflow/tracks/dlsp-getting-started-with-tensorflow/modules/dlsp-implementing-neural-networks/lessons/hyperparameter-tuning-neural/exercises/regularization-dropout)\n",
    "- Grid Search or Randomized Search (batch size, (learning_rate?), (and maybe neuron shape?) (will try if I get time to run the code 🫠)\n",
    "- Some graphs to show learning and train and test error (https://www.codecademy.com/paths/build-deep-learning-models-with-tensorflow/tracks/dlsp-getting-started-with-tensorflow/modules/dlsp-implementing-neural-networks/lessons/hyperparameter-tuning-neural/exercises/tuning-epochs-early-stopping) (the link has some sample data I can use)"
   ]
  },
  {
   "cell_type": "markdown",
   "id": "5326a612-3921-4ad6-bdf8-f3f5d0f1bd3c",
   "metadata": {},
   "source": [
    "# Inputting Text From Image\n",
    "## Basic Version\n",
    "The given images are in a grid format. If we can assume each alphabet to be 28x28 grid, the process simplifies to splitting the grid into 28x28 grids, running the model on the grid, and appending it to a list or something. \n",
    "\n",
    "Then, the main issue is how to tackle the spaces, one idea is to just look for a blank grid. The other is to change the last dense layer to have 27 possible outputs instead of the original 26. Considering the confidence level of the model, when inputted a blank grid, they will not have much confidence and assign the 27th option to some minimal probability. We can just check for that.\n",
    "\n",
    "Pseudocode:\n",
    "1. Take all target images input and store it in a np array (like we did for the training images earlier)\n",
    "2. Make a function that takes the image, cuts it up using a library (a good option looks like cv2 or image_slicer) and returns them in a list. (image_slicer looks more intuitive to use, but it stores images as an Image object, that need to be converted to a numpy array which is simple business).\n",
    "3. Make a list to store sentences.\n",
    "4. (decide how to tackle spaces)"
   ]
  },
  {
   "cell_type": "markdown",
   "id": "bc401ad6-c2b6-41c6-9e71-d228127d52fa",
   "metadata": {},
   "source": [
    "Let's test our model on the blank image and see what happens. So first let's split the image itself."
   ]
  },
  {
   "cell_type": "code",
   "execution_count": 127,
   "id": "4974bea6-dc9b-484a-a96a-7cf6b6955682",
   "metadata": {},
   "outputs": [
    {
     "data": {
      "image/png": "[encoded data removed]",
      "text/plain": [
       "<Figure size 640x480 with 1 Axes>"
      ]
     },
     "metadata": {},
     "output_type": "display_data"
    },
    {
     "name": "stdout",
     "output_type": "stream",
     "text": [
      "Shape of the first image: (336, 280)\n"
     ]
    }
   ],
   "source": [
    "path = 'target_images'\n",
    "sorted_target_filenames = sorted(os.listdir(path))\n",
    "target_image_list = []\n",
    "for image in sorted_target_filenames:\n",
    "    img = Image.open(os.path.join(path, image))\n",
    "    img = np.array(img)\n",
    "    target_image_list.append(img)\n",
    "\n",
    "plt.imshow(target_image_list[0], cmap='gray')\n",
    "plt.title('First Image')\n",
    "plt.axis('off')\n",
    "plt.show()\n",
    "\n",
    "# Check the shape of the first image to confirm it has not been resized\n",
    "print(f'Shape of the first image: {target_image_list[0].shape}')"
   ]
  },
  {
   "cell_type": "markdown",
   "id": "0e098583-589e-4692-b796-f7e8093d5bb3",
   "metadata": {},
   "source": [
    "Now let's try finding the words. A very basic method of grabbing the letters, would be to split it as a grid (which the test images are gracefully set as) in 28x28 squares. In a more general scenario, the letters won't always be in a nice grid format and we'd need some way to detect the letters without any assumptions. But here, the images have dimensions that are multiples of 28, so it's a simple solution.\n",
    "\n",
    "But for a general solution, this is where, the idea of contour identification comes in. It's basically detecting where borders of objects in an image are located, OpenCV has a built in function for this (which even sets the boundary box based on the contour), and using that (the x, y, width and height values), we can find each of the letters and spot spaces when the distance between two contour boxes is >= the width of an average letter. \n",
    "\n",
    "https://www.freedomvc.com/index.php/2021/06/26/contours-and-bounding-boxes/ (this link explains it nicely, I'll implement this if I get the time)\n",
    "\n",
    "I chose to implement the more basic method despite having the other approach for two (very basic) reasons. One is lack of time to implement, the other is for the problem statement at hand, the simple approach is the best approach."
   ]
  },
  {
   "cell_type": "code",
   "execution_count": 200,
   "id": "13880086-4449-4bc0-bab9-43c9833dc454",
   "metadata": {},
   "outputs": [
    {
     "name": "stdout",
     "output_type": "stream",
     "text": [
      "336\n"
     ]
    },
    {
     "data": {
      "image/png": "[encoded data removed]",
      "text/plain": [
       "<Figure size 640x480 with 1 Axes>"
      ]
     },
     "metadata": {},
     "output_type": "display_data"
    }
   ],
   "source": [
    "tiles = []\n",
    "print(target_image_list[0].shape[0])\n",
    "for r in range(0,target_image_list[0].shape[0],28):\n",
    "    for c in range(0,target_image_list[0].shape[1],28):\n",
    "        tiles.append(target_image_list[0][r:r+28, c:c+28])\n",
    "\n",
    "plt.imshow(tiles[2], cmap='gray')\n",
    "plt.title('First Image')\n",
    "plt.axis('off')\n",
    "plt.show()"
   ]
  },
  {
   "cell_type": "markdown",
   "id": "30198ff1-0d69-4220-b20f-4ffd76db3065",
   "metadata": {},
   "source": [
    "It's working! "
   ]
  },
  {
   "cell_type": "markdown",
   "id": "9f36b4ee-a256-48c1-874e-6b6cbd55eae2",
   "metadata": {},
   "source": [
    "Let's run the model on the letter (and check for space first, and append it to a list). An interesting thought experiment, what would happen if we ran the model on a blank space. (Is it recreatable? Is this a viable method to detect spaces?) Let's see."
   ]
  },
  {
   "cell_type": "code",
   "execution_count": 183,
   "id": "e438ad22-8039-45bf-9004-120d69cb10bb",
   "metadata": {},
   "outputs": [
    {
     "name": "stdout",
     "output_type": "stream",
     "text": [
      "(1, 28, 28)\n"
     ]
    },
    {
     "data": {
      "image/png": "[encoded data removed]",
      "text/plain": [
       "<Figure size 640x480 with 1 Axes>"
      ]
     },
     "metadata": {},
     "output_type": "display_data"
    }
   ],
   "source": [
    "pred_img = np.expand_dims(tiles[1], 0)\n",
    "print(pred_img.shape)\n",
    "\n",
    "plt.imshow(tiles[1], cmap='gray')\n",
    "plt.title('Blank Space')\n",
    "plt.axis('off')\n",
    "plt.show()"
   ]
  },
  {
   "cell_type": "code",
   "execution_count": 181,
   "id": "a3186d43-1c0f-401b-b706-0f3b6e40c1ee",
   "metadata": {},
   "outputs": [
    {
     "name": "stdout",
     "output_type": "stream",
     "text": [
      "\u001b[1m1/1\u001b[0m \u001b[32m━━━━━━━━━━━━━━━━━━━━\u001b[0m\u001b[37m\u001b[0m \u001b[1m0s\u001b[0m 280ms/step\n"
     ]
    },
    {
     "data": {
      "text/plain": [
       "array([[0.01924399, 0.02071954, 0.07423253, 0.03125919, 0.02248219,\n",
       "        0.01152906, 0.0172097 , 0.01766832, 0.02531154, 0.06886932,\n",
       "        0.02378176, 0.11470935, 0.06051715, 0.01549157, 0.03557494,\n",
       "        0.01590365, 0.00538379, 0.0094222 , 0.05869339, 0.1554247 ,\n",
       "        0.03773559, 0.01362749, 0.02127801, 0.01578122, 0.05633349,\n",
       "        0.04306762, 0.00874869]], dtype=float32)"
      ]
     },
     "execution_count": 181,
     "metadata": {},
     "output_type": "execute_result"
    }
   ],
   "source": [
    "my_prediction = cnn_model.predict(pred_img)\n",
    "my_prediction"
   ]
  },
  {
   "cell_type": "markdown",
   "id": "289502f9-964c-46a7-88fb-c37ebd0c79a7",
   "metadata": {},
   "source": [
    "This output seems to be constant as long as 28x28 full black grid is received. So it seems like a reasonable way to detect spaces. But. This is not a great generalization, a comma, a full stop, anything else would give more varied results. But something we can say with relatively high confidence, is that if it's not a [0 0 .. 0 1 0 .. 0 0] type array, then it's not an easily recognizable alphabet for sure. After that, the decision comes down to what to do when it isn't an alphabet. \n",
    "\n",
    "A way to detect other punctuation, would be if there was more labeled data provided, like for commas and fullstops, we can train the data on that too. But for now, let's move with the assumption that anything which isn't a letter, is a space."
   ]
  },
  {
   "cell_type": "markdown",
   "id": "3afd5eb6-987b-45bb-9058-5cf065e1123a",
   "metadata": {},
   "source": [
    "Now let's bring this all together in a function."
   ]
  },
  {
   "cell_type": "code",
   "execution_count": 202,
   "id": "22d8f1ee-ba3d-40a3-abd1-8784f3d4c106",
   "metadata": {},
   "outputs": [
    {
     "name": "stdout",
     "output_type": "stream",
     "text": [
      "I AM REALLY ANNOYED BY YOUR CONSTANT COMPLAINING AND YOU NEVER OFFER ANY SOLUTIONS WHICH IS VERY UNHELPFUL AND NEGATIVE \n"
     ]
    }
   ],
   "source": [
    "def sentenceFromImage(target_image):\n",
    "    sentence = \"\"\n",
    "    tiles = []\n",
    "    for r in range(0, target_image.shape[0], 28):\n",
    "        for c in range(0, target_image.shape[1], 28):\n",
    "            tiles.append(target_image[r:r+28, c:c+28])\n",
    "\n",
    "    for image in tiles:\n",
    "        # Convert image to right dimension and run model\n",
    "        image = np.expand_dims(image, 0)\n",
    "        my_prediction = cnn_model.predict(image, verbose=0)\n",
    "        \n",
    "        # First check if it's a space\n",
    "        # Just check the 27th value since that should have been trained to give 0 for anything which looks remotely like a letter\n",
    "        is_space = 0\n",
    "        if my_prediction[0, -1] > 0: \n",
    "            is_space = 1\n",
    "\n",
    "        if (not is_space):\n",
    "            letter_index = np.argmax(my_prediction)\n",
    "            sentence += chr(65 + letter_index)\n",
    "        else:\n",
    "            sentence += \" \"\n",
    "\n",
    "    return sentence\n",
    "\n",
    "print(sentenceFromImage(target_image_list[0]))"
   ]
  },
  {
   "cell_type": "markdown",
   "id": "57846927-047e-46a6-bc72-e5517013b199",
   "metadata": {},
   "source": [
    "## Generalized Version\n",
    "For the generalized version (will code it out if I get time), we need to consider what a general scenario will look like.\n",
    "\n",
    "In my eyes, the target images given are not general case scenarios as a word will not usually stretch across two lines unless there was a hyphen in between. Due to lack of training data, our model cannot recognize hyphens. Thus, we must make the assumption that any time a new line happens, it is a new word. (this will give worse results, but we will have to do this if our goal is to have a general solution).\n",
    "\n",
    "Then, since we don't have training data for other punctuation (mainly full stops), we must also assume a single sentence.\n",
    "\n",
    "We'll be using the functions shown in this website:\n",
    "https://www.freedomvc.com/index.php/2021/06/26/contours-and-bounding-boxes/ \n",
    "\n",
    "In this link, they find the contours, and then sort based on the area of the contours, and then they draw the largest bounding boxes. Instead, we'll set some minimum area bound for size of contours (sufficient to cover a letter), then get the bounding boxes, and sort based on y values, and then x values. Then, we go row by row, and resize each bounding box to 28x28 and run our model on it. The main issue (and only issue I can think of right now) is the lack of spaces. So, what we'll do is we'll add a space whenever the gap between two bounding boxes is greater than the median width of a letter (or in this case, the median width of a bounding box). And after each line, hit another space (if there are two consecutive spaces, that can be handled in post processing), and we should get our sentence.\n",
    "\n",
    "(in the possibility that the contours are getting too specific and detecting specific parts of a letter (like for 'A', it detects a triangle and two lines), a possible solution is to blur the image so that the openCV gets the rough idea for where letters are, and then it can run the model from there.\n",
    "\n",
    "### Psuedo Code\n",
    "1. for row in rows\n",
    "2.   set sentence = \"\"\n",
    "3.   Get a copy of the image but blurred\n",
    "4.   get list of all contours of the blurred image\n",
    "5.   set a minimum area (will have to be done by trial and error to find optimal for general usage (mostly based on expected font size))\n",
    "6.   select the specific contours greater than minimum area\n",
    "7.   convert all contours to bounding boxes\n",
    "8.   sort by y\n",
    "9.   sub sort by x for same y\n",
    "10.  go bounding box by bounding box (always checking for spaces) and run the model (using the non-blurred image)\n",
    "11.  add the letter (or space) to sentence.\n",
    "12.  Tada!\n",
    "\n",
    "### Assumption work arounds\n",
    "\n",
    "If we don't make the assumption about \"New line, new word\", then the issue that arises is once a line finishes, we need to figure out whether a new word has started or not. But this is ambiguous territory as compound words, like \"Butterfly\", if it were split into two lines, a human being also wouldn't be able to tell if it's two words or one (without contextual knowledge). But a possible fix (for a human and an ML algorithm) would be if there was a clearly visible space after \"butter\" and before the line ends.\n",
    "\n",
    "So to code the solution out, whenever a new line starts, and the first letter is right at the left edge, we look at the previous line and see if there was a gap of a letter size width. If there was, we assume a space, otherwise we take it as a single word.\n",
    "\n",
    "### Flaws with the method\n",
    "- Any background data, like an elephant picture or whatever, will throw our algorithm out the window. Haven't thought of a solution yet.\n",
    "- Diagonal (or even slanted) lines of text may also throw the algorithm off as we're sorting by y values first."
   ]
  },
  {
   "cell_type": "markdown",
   "id": "5b44f945-4d95-4cd1-a2b3-07271d073f52",
   "metadata": {},
   "source": [
    "Also... I didn't get the time to implement this from lack of time (due to personal reasons), with a bit more time, it would be doable."
   ]
  },
  {
   "cell_type": "markdown",
   "id": "c6bed6e8-afc0-492b-b92d-7d27f10602c5",
   "metadata": {},
   "source": [
    "# Sentiment Analysis\n",
    "We'll be using Recurrent Neural Networks (LSTMs) to estimate the sentiment of the given sentences. The reason for using this method is mainly because the data provided is in a sequential form and RNNs are meant for this type of data. Then we use LSTMs to handle the vanishing gradient problem (which is basically when the gradients of the loss function wrt the model parameters become very small during backpropogation leading to very slow or even a stop in learning in the earlier layers of the network). LSTMs allow information from long before the current data to be used optimal and also doesn't allow the gradient to rise over certain bounds. It's also a lot more memory efficient."
   ]
  },
  {
   "cell_type": "markdown",
   "id": "96e988c7-4c21-4f7b-b49b-8e5c8202e93e",
   "metadata": {},
   "source": [
    "## Import Time. (+ some downloading)"
   ]
  },
  {
   "cell_type": "code",
   "execution_count": 205,
   "id": "f03a82d5-1563-4686-9e32-6a26bb32c5b0",
   "metadata": {},
   "outputs": [
    {
     "name": "stderr",
     "output_type": "stream",
     "text": [
      "[nltk_data] Downloading package punkt to /Users/fa0296/nltk_data...\n",
      "[nltk_data]   Unzipping tokenizers/punkt.zip.\n",
      "[nltk_data] Downloading package averaged_perceptron_tagger to\n",
      "[nltk_data]     /Users/fa0296/nltk_data...\n",
      "[nltk_data]   Unzipping taggers/averaged_perceptron_tagger.zip.\n",
      "[nltk_data] Downloading package wordnet to /Users/fa0296/nltk_data...\n",
      "[nltk_data] Downloading package stopwords to\n",
      "[nltk_data]     /Users/fa0296/nltk_data...\n",
      "[nltk_data]   Unzipping corpora/stopwords.zip.\n"
     ]
    },
    {
     "data": {
      "text/plain": [
       "True"
      ]
     },
     "execution_count": 205,
     "metadata": {},
     "output_type": "execute_result"
    }
   ],
   "source": [
    "import nltk\n",
    "from nltk.corpus import stopwords, wordnet\n",
    "from nltk.stem import WordNetLemmatizer\n",
    "from nltk.tokenize import word_tokenize\n",
    "\n",
    "nltk.download('punkt')\n",
    "nltk.download('averaged_perceptron_tagger')\n",
    "nltk.download('wordnet')\n",
    "nltk.download('stopwords')"
   ]
  },
  {
   "cell_type": "code",
   "execution_count": 220,
   "id": "d80a5f18-d268-483c-8d82-41869434d50d",
   "metadata": {},
   "outputs": [
    {
     "ename": "ModuleNotFoundError",
     "evalue": "No module named 'tensorflow.keras'",
     "output_type": "error",
     "traceback": [
      "\u001b[0;31m---------------------------------------------------------------------------\u001b[0m",
      "\u001b[0;31mModuleNotFoundError\u001b[0m                       Traceback (most recent call last)",
      "Cell \u001b[0;32mIn[220], line 3\u001b[0m\n\u001b[1;32m      1\u001b[0m \u001b[38;5;66;03m# On my system, running this import throws an error, I hope this clarifies why I've used the more wordy versions to \u001b[39;00m\n\u001b[1;32m      2\u001b[0m \u001b[38;5;66;03m# write my model and create the word sequences\u001b[39;00m\n\u001b[0;32m----> 3\u001b[0m \u001b[38;5;28;01mfrom\u001b[39;00m \u001b[38;5;21;01mtensorflow\u001b[39;00m\u001b[38;5;21;01m.\u001b[39;00m\u001b[38;5;21;01mkeras\u001b[39;00m\u001b[38;5;21;01m.\u001b[39;00m\u001b[38;5;21;01mpreprocessing\u001b[39;00m\u001b[38;5;21;01m.\u001b[39;00m\u001b[38;5;21;01mtext\u001b[39;00m \u001b[38;5;28;01mimport\u001b[39;00m Tokenizer\n\u001b[1;32m      4\u001b[0m \u001b[38;5;28;01mfrom\u001b[39;00m \u001b[38;5;21;01mtensorflow\u001b[39;00m\u001b[38;5;21;01m.\u001b[39;00m\u001b[38;5;21;01mkeras\u001b[39;00m\u001b[38;5;21;01m.\u001b[39;00m\u001b[38;5;21;01mpreprocessing\u001b[39;00m\u001b[38;5;21;01m.\u001b[39;00m\u001b[38;5;21;01msequence\u001b[39;00m \u001b[38;5;28;01mimport\u001b[39;00m pad_sequences\n",
      "\u001b[0;31mModuleNotFoundError\u001b[0m: No module named 'tensorflow.keras'"
     ]
    }
   ],
   "source": [
    "# On my system, running this import throws an error, I hope this clarifies why I've used the more wordy versions to \n",
    "# write my model and create the word sequences\n",
    "from tensorflow.keras.preprocessing.text import Tokenizer\n",
    "from tensorflow.keras.preprocessing.sequence import pad_sequences"
   ]
  },
  {
   "cell_type": "code",
   "execution_count": 211,
   "id": "89250078-68e0-4429-82ee-646b1381d263",
   "metadata": {},
   "outputs": [],
   "source": [
    "# Load data\n",
    "df = pd.read_csv('sentiment_analysis_dataset.csv')"
   ]
  },
  {
   "cell_type": "markdown",
   "id": "237690f1-e2a6-45bf-9981-f9c358c1cf4b",
   "metadata": {},
   "source": [
    "## Preprocessing\n",
    "### Lemmatizing\n",
    "Basically, the simple way to show why this is needed is, we may have tagged the word \"annoying\" with a certain tag. Then if we come across another sentence with the word, \"annoys\", then the previous knowledge that \"annoying\" isn't a great word doesn't come out. Thus, we identify which Part of Speech it is, and then convert it to it's root word. \n",
    "### POS Tagging\n",
    "But we need the Part of Speech to be able to identify this. We will be using NLTK and WordNet to detect part of speech and then use wordnet's vast database to convert it to it's root form.\n",
    "### Stop Words\n",
    "These are words that aren't very singificant to the sentiment value, we simply ignore them.\n",
    "\n",
    "After both of these steps, combine the new version of the words and combine it together into the final form of the sentence."
   ]
  },
  {
   "cell_type": "code",
   "execution_count": 212,
   "id": "b9c0271c-11f0-4849-a902-089908f88f1c",
   "metadata": {},
   "outputs": [
    {
     "name": "stdout",
     "output_type": "stream",
     "text": [
      "                                                line sentiment  \\\n",
      "0  I AM REALLY FRUSTRATED BECAUSE YOU CONSTANTLY ...     Angry   \n",
      "1  IT MAKES ME UPSET THAT YOU NEVER TAKE RESPONSI...     Angry   \n",
      "2  I CANNOT BELIEVE YOU MISSED ANOTHER DEADLINE A...     Angry   \n",
      "3  IT ANNOYS ME WHEN YOU INTERRUPT DURING MEETING...     Angry   \n",
      "4  I AM TIRED OF YOUR EXCUSES EVERY TIME SOMETHIN...     Angry   \n",
      "\n",
      "                                      processed_line  \n",
      "0  REALLY FRUSTRATED CONSTANTLY IGNORE MESSAGES N...  \n",
      "1  MAKES UPSET NEVER TAKE RESPONSIBILITY ACTIONS ...  \n",
      "2  BELIEVE MISSED ANOTHER DEADLINE LACK ATTENTION...  \n",
      "3  ANNOYS INTERRUPT MEETINGS NEVER LET ANYONE FIN...  \n",
      "4  TIRED EXCUSES EVERY TIME SOMETHING GOES WRONG ...  \n"
     ]
    }
   ],
   "source": [
    "# Initialize lemmatizer and stop words\n",
    "lemmatizer = WordNetLemmatizer()\n",
    "stop_words = set(stopwords.words('english'))\n",
    "\n",
    "# This is to integrate NLTK's parts of speech and the lemmatizer tool.\n",
    "def get_wordnet_pos(word):\n",
    "    # Get the tag of the word using nltk (note that nltk has it's own rules to handle unknown words)\n",
    "    tag = nltk.pos_tag([word])[0][1][0].upper()\n",
    "    # Using a dictionary instead of nested if else's or switch's.\n",
    "    tag_dict = {\"J\": wordnet.ADJ,\n",
    "                \"N\": wordnet.NOUN,\n",
    "                \"V\": wordnet.VERB,\n",
    "                \"R\": wordnet.ADV}\n",
    "    # Returns the wordnet.<POS> if the tag is one among the ones listed, or else return it as a noun. \n",
    "    return tag_dict.get(tag, wordnet.NOUN)\n",
    "\n",
    "# Preprocess function\n",
    "def preprocess(text):\n",
    "    # Splits the text into words\n",
    "    tokens = word_tokenize(text)\n",
    "    # Ignores stop words, and converts each token (word) into it's root word (or leaves it as is if it's an unknown word)\n",
    "    lemmatized_tokens = [lemmatizer.lemmatize(token, get_wordnet_pos(token)) for token in tokens if token.lower() not in stop_words]\n",
    "    return ' '.join(lemmatized_tokens)\n",
    "\n",
    "# Apply preprocessing to the 'line' column\n",
    "df['processed_line'] = df['line'].apply(preprocess)\n",
    "\n",
    "# print(preprocess(\"This Sudoku game is so fun and enjoyabale and I have so much joy from this game\"))\n",
    "print(df.head())"
   ]
  },
  {
   "cell_type": "code",
   "execution_count": 302,
   "id": "59d84417-91ba-4246-aa67-ba82ac3b263e",
   "metadata": {},
   "outputs": [
    {
     "name": "stdout",
     "output_type": "stream",
     "text": [
      "(24, 10)\n",
      "(24,)\n",
      "(6, 10)\n",
      "(6,)\n"
     ]
    }
   ],
   "source": [
    "# Encode labels\n",
    "label_encoder = LabelEncoder()\n",
    "df['sentiment'] = label_encoder.fit_transform(df['sentiment'])\n",
    "\n",
    "# Split data into training and test sets\n",
    "X_train, X_test, y_train, y_test = train_test_split(df['processed_line'], df['sentiment'], test_size=0.2, random_state=6)\n",
    "\n",
    "# Tokenize text data\n",
    "max_words = 1000\n",
    "tokenizer = tf.keras.preprocessing.text.Tokenizer(num_words=max_words)\n",
    "tokenizer.fit_on_texts(X_train)\n",
    "\n",
    "# Convert text to sequences\n",
    "\n",
    "# test_seq = tokenizer.texts_to_sequences([\"I AM REALLY FRUSTRATED BECAUSE YOU CONSTANTLY IGNORE MY MESSAGES AND YOU NEVER RESPOND ON TIME WHICH MAKES IT VERY HARD TO GET ANYTHING DONE\", \"I APPRECIATE HOW YOU ALWAYS OFFER TO HELP AND YOUR WILLINGNESS TO ASSIST OTHERS IS TRULY ADMIRABLE AND MAKES EVERYTHING EASIER\"])\n",
    "# print(test_seq)\n",
    "X_train_seq = tokenizer.texts_to_sequences(X_train)\n",
    "X_test_seq = tokenizer.texts_to_sequences(X_test)\n",
    "\n",
    "# Pad sequences for equal length\n",
    "maxlen = 10\n",
    "# test_pad = tf.keras.preprocessing.sequence.pad_sequences(test_seq, maxlen=maxlen)\n",
    "# print(test_pad)\n",
    "X_train_pad = tf.keras.preprocessing.sequence.pad_sequences(X_train_seq, maxlen=maxlen)\n",
    "X_test_pad = tf.keras.preprocessing.sequence.pad_sequences(X_test_seq, maxlen=maxlen)\n",
    "print(X_train_pad.shape)\n",
    "print(y_train.shape)\n",
    "print(X_test_pad.shape)\n",
    "print(y_test.shape)"
   ]
  },
  {
   "cell_type": "markdown",
   "id": "33f4639d-dbea-4e60-a895-383117f74a9d",
   "metadata": {},
   "source": [
    "## Making the model\n",
    "### WRITE THIS NICELY TOO"
   ]
  },
  {
   "cell_type": "code",
   "execution_count": 310,
   "id": "467a03ea-c8b2-47ac-9074-2bfa21ca7ab1",
   "metadata": {},
   "outputs": [],
   "source": [
    "embedding_dim = 100\n",
    "\n",
    "lstm_model = tf.keras.models.Sequential()\n",
    "lstm_model.add(tf.keras.layers.Embedding(max_words, 128))\n",
    "lstm_model.add(tf.keras.layers.LSTM(units=64, dropout=0.2))\n",
    "lstm_model.add(tf.keras.layers.Dense(units=3, activation='softmax'))\n",
    "\n",
    "lstm_model.compile(optimizer='adam', loss='sparse_categorical_crossentropy', metrics=['accuracy'])"
   ]
  },
  {
   "cell_type": "code",
   "execution_count": 304,
   "id": "763c00da-68e5-4151-8eac-95c996f36498",
   "metadata": {},
   "outputs": [
    {
     "name": "stdout",
     "output_type": "stream",
     "text": [
      "Epoch 1/5\n",
      "\u001b[1m3/3\u001b[0m \u001b[32m━━━━━━━━━━━━━━━━━━━━\u001b[0m\u001b[37m\u001b[0m \u001b[1m4s\u001b[0m 271ms/step - accuracy: 0.2125 - loss: 1.1012 - val_accuracy: 0.5000 - val_loss: 1.0950\n",
      "Epoch 2/5\n",
      "\u001b[1m3/3\u001b[0m \u001b[32m━━━━━━━━━━━━━━━━━━━━\u001b[0m\u001b[37m\u001b[0m \u001b[1m0s\u001b[0m 32ms/step - accuracy: 0.8167 - loss: 1.0804 - val_accuracy: 0.6667 - val_loss: 1.0853\n",
      "Epoch 3/5\n",
      "\u001b[1m3/3\u001b[0m \u001b[32m━━━━━━━━━━━━━━━━━━━━\u001b[0m\u001b[37m\u001b[0m \u001b[1m0s\u001b[0m 35ms/step - accuracy: 1.0000 - loss: 1.0604 - val_accuracy: 0.6667 - val_loss: 1.0737\n",
      "Epoch 4/5\n",
      "\u001b[1m3/3\u001b[0m \u001b[32m━━━━━━━━━━━━━━━━━━━━\u001b[0m\u001b[37m\u001b[0m \u001b[1m0s\u001b[0m 35ms/step - accuracy: 1.0000 - loss: 1.0331 - val_accuracy: 0.6667 - val_loss: 1.0583\n",
      "Epoch 5/5\n",
      "\u001b[1m3/3\u001b[0m \u001b[32m━━━━━━━━━━━━━━━━━━━━\u001b[0m\u001b[37m\u001b[0m \u001b[1m0s\u001b[0m 41ms/step - accuracy: 1.0000 - loss: 1.0016 - val_accuracy: 0.6667 - val_loss: 1.0384\n",
      "\u001b[1m1/1\u001b[0m \u001b[32m━━━━━━━━━━━━━━━━━━━━\u001b[0m\u001b[37m\u001b[0m \u001b[1m0s\u001b[0m 40ms/step - accuracy: 0.6667 - loss: 1.0384\n",
      "Test Accuracy: 0.6667\n"
     ]
    }
   ],
   "source": [
    "epochs = 5\n",
    "batch_size = 10\n",
    "history = lstm_model.fit(X_train_pad, y_train, epochs=epochs, batch_size=batch_size, validation_data=(X_test_pad, y_test))\n",
    "\n",
    "loss, accuracy = lstm_model.evaluate(X_test_pad, y_test)\n",
    "print(f'Test Accuracy: {accuracy:.4f}')"
   ]
  },
  {
   "cell_type": "code",
   "execution_count": 286,
   "id": "16edc578-8d02-4fc4-9022-490d4c397e66",
   "metadata": {},
   "outputs": [
    {
     "data": {
      "text/html": [
       "<pre style=\"white-space:pre;overflow-x:auto;line-height:normal;font-family:Menlo,'DejaVu Sans Mono',consolas,'Courier New',monospace\"><span style=\"font-weight: bold\">Model: \"sequential_25\"</span>\n",
       "</pre>\n"
      ],
      "text/plain": [
       "\u001b[1mModel: \"sequential_25\"\u001b[0m\n"
      ]
     },
     "metadata": {},
     "output_type": "display_data"
    },
    {
     "data": {
      "text/html": [
       "<pre style=\"white-space:pre;overflow-x:auto;line-height:normal;font-family:Menlo,'DejaVu Sans Mono',consolas,'Courier New',monospace\">┏━━━━━━━━━━━━━━━━━━━━━━━━━━━━━━━━━┳━━━━━━━━━━━━━━━━━━━━━━━━┳━━━━━━━━━━━━━━━┓\n",
       "┃<span style=\"font-weight: bold\"> Layer (type)                    </span>┃<span style=\"font-weight: bold\"> Output Shape           </span>┃<span style=\"font-weight: bold\">       Param # </span>┃\n",
       "┡━━━━━━━━━━━━━━━━━━━━━━━━━━━━━━━━━╇━━━━━━━━━━━━━━━━━━━━━━━━╇━━━━━━━━━━━━━━━┩\n",
       "│ embedding_16 (<span style=\"color: #0087ff; text-decoration-color: #0087ff\">Embedding</span>)        │ (<span style=\"color: #00d7ff; text-decoration-color: #00d7ff\">None</span>, <span style=\"color: #00af00; text-decoration-color: #00af00\">10</span>, <span style=\"color: #00af00; text-decoration-color: #00af00\">128</span>)        │       <span style=\"color: #00af00; text-decoration-color: #00af00\">128,000</span> │\n",
       "├─────────────────────────────────┼────────────────────────┼───────────────┤\n",
       "│ lstm_22 (<span style=\"color: #0087ff; text-decoration-color: #0087ff\">LSTM</span>)                  │ (<span style=\"color: #00d7ff; text-decoration-color: #00d7ff\">None</span>, <span style=\"color: #00af00; text-decoration-color: #00af00\">10</span>, <span style=\"color: #00af00; text-decoration-color: #00af00\">64</span>)         │        <span style=\"color: #00af00; text-decoration-color: #00af00\">49,408</span> │\n",
       "├─────────────────────────────────┼────────────────────────┼───────────────┤\n",
       "│ lstm_23 (<span style=\"color: #0087ff; text-decoration-color: #0087ff\">LSTM</span>)                  │ (<span style=\"color: #00d7ff; text-decoration-color: #00d7ff\">None</span>, <span style=\"color: #00af00; text-decoration-color: #00af00\">10</span>, <span style=\"color: #00af00; text-decoration-color: #00af00\">64</span>)         │        <span style=\"color: #00af00; text-decoration-color: #00af00\">33,024</span> │\n",
       "├─────────────────────────────────┼────────────────────────┼───────────────┤\n",
       "│ simple_rnn_1 (<span style=\"color: #0087ff; text-decoration-color: #0087ff\">SimpleRNN</span>)        │ (<span style=\"color: #00d7ff; text-decoration-color: #00d7ff\">None</span>, <span style=\"color: #00af00; text-decoration-color: #00af00\">64</span>)             │         <span style=\"color: #00af00; text-decoration-color: #00af00\">8,256</span> │\n",
       "├─────────────────────────────────┼────────────────────────┼───────────────┤\n",
       "│ dense_34 (<span style=\"color: #0087ff; text-decoration-color: #0087ff\">Dense</span>)                │ (<span style=\"color: #00d7ff; text-decoration-color: #00d7ff\">None</span>, <span style=\"color: #00af00; text-decoration-color: #00af00\">3</span>)              │           <span style=\"color: #00af00; text-decoration-color: #00af00\">195</span> │\n",
       "└─────────────────────────────────┴────────────────────────┴───────────────┘\n",
       "</pre>\n"
      ],
      "text/plain": [
       "┏━━━━━━━━━━━━━━━━━━━━━━━━━━━━━━━━━┳━━━━━━━━━━━━━━━━━━━━━━━━┳━━━━━━━━━━━━━━━┓\n",
       "┃\u001b[1m \u001b[0m\u001b[1mLayer (type)                   \u001b[0m\u001b[1m \u001b[0m┃\u001b[1m \u001b[0m\u001b[1mOutput Shape          \u001b[0m\u001b[1m \u001b[0m┃\u001b[1m \u001b[0m\u001b[1m      Param #\u001b[0m\u001b[1m \u001b[0m┃\n",
       "┡━━━━━━━━━━━━━━━━━━━━━━━━━━━━━━━━━╇━━━━━━━━━━━━━━━━━━━━━━━━╇━━━━━━━━━━━━━━━┩\n",
       "│ embedding_16 (\u001b[38;5;33mEmbedding\u001b[0m)        │ (\u001b[38;5;45mNone\u001b[0m, \u001b[38;5;34m10\u001b[0m, \u001b[38;5;34m128\u001b[0m)        │       \u001b[38;5;34m128,000\u001b[0m │\n",
       "├─────────────────────────────────┼────────────────────────┼───────────────┤\n",
       "│ lstm_22 (\u001b[38;5;33mLSTM\u001b[0m)                  │ (\u001b[38;5;45mNone\u001b[0m, \u001b[38;5;34m10\u001b[0m, \u001b[38;5;34m64\u001b[0m)         │        \u001b[38;5;34m49,408\u001b[0m │\n",
       "├─────────────────────────────────┼────────────────────────┼───────────────┤\n",
       "│ lstm_23 (\u001b[38;5;33mLSTM\u001b[0m)                  │ (\u001b[38;5;45mNone\u001b[0m, \u001b[38;5;34m10\u001b[0m, \u001b[38;5;34m64\u001b[0m)         │        \u001b[38;5;34m33,024\u001b[0m │\n",
       "├─────────────────────────────────┼────────────────────────┼───────────────┤\n",
       "│ simple_rnn_1 (\u001b[38;5;33mSimpleRNN\u001b[0m)        │ (\u001b[38;5;45mNone\u001b[0m, \u001b[38;5;34m64\u001b[0m)             │         \u001b[38;5;34m8,256\u001b[0m │\n",
       "├─────────────────────────────────┼────────────────────────┼───────────────┤\n",
       "│ dense_34 (\u001b[38;5;33mDense\u001b[0m)                │ (\u001b[38;5;45mNone\u001b[0m, \u001b[38;5;34m3\u001b[0m)              │           \u001b[38;5;34m195\u001b[0m │\n",
       "└─────────────────────────────────┴────────────────────────┴───────────────┘\n"
      ]
     },
     "metadata": {},
     "output_type": "display_data"
    },
    {
     "data": {
      "text/html": [
       "<pre style=\"white-space:pre;overflow-x:auto;line-height:normal;font-family:Menlo,'DejaVu Sans Mono',consolas,'Courier New',monospace\"><span style=\"font-weight: bold\"> Total params: </span><span style=\"color: #00af00; text-decoration-color: #00af00\">656,651</span> (2.50 MB)\n",
       "</pre>\n"
      ],
      "text/plain": [
       "\u001b[1m Total params: \u001b[0m\u001b[38;5;34m656,651\u001b[0m (2.50 MB)\n"
      ]
     },
     "metadata": {},
     "output_type": "display_data"
    },
    {
     "data": {
      "text/html": [
       "<pre style=\"white-space:pre;overflow-x:auto;line-height:normal;font-family:Menlo,'DejaVu Sans Mono',consolas,'Courier New',monospace\"><span style=\"font-weight: bold\"> Trainable params: </span><span style=\"color: #00af00; text-decoration-color: #00af00\">218,883</span> (855.01 KB)\n",
       "</pre>\n"
      ],
      "text/plain": [
       "\u001b[1m Trainable params: \u001b[0m\u001b[38;5;34m218,883\u001b[0m (855.01 KB)\n"
      ]
     },
     "metadata": {},
     "output_type": "display_data"
    },
    {
     "data": {
      "text/html": [
       "<pre style=\"white-space:pre;overflow-x:auto;line-height:normal;font-family:Menlo,'DejaVu Sans Mono',consolas,'Courier New',monospace\"><span style=\"font-weight: bold\"> Non-trainable params: </span><span style=\"color: #00af00; text-decoration-color: #00af00\">0</span> (0.00 B)\n",
       "</pre>\n"
      ],
      "text/plain": [
       "\u001b[1m Non-trainable params: \u001b[0m\u001b[38;5;34m0\u001b[0m (0.00 B)\n"
      ]
     },
     "metadata": {},
     "output_type": "display_data"
    },
    {
     "data": {
      "text/html": [
       "<pre style=\"white-space:pre;overflow-x:auto;line-height:normal;font-family:Menlo,'DejaVu Sans Mono',consolas,'Courier New',monospace\"><span style=\"font-weight: bold\"> Optimizer params: </span><span style=\"color: #00af00; text-decoration-color: #00af00\">437,768</span> (1.67 MB)\n",
       "</pre>\n"
      ],
      "text/plain": [
       "\u001b[1m Optimizer params: \u001b[0m\u001b[38;5;34m437,768\u001b[0m (1.67 MB)\n"
      ]
     },
     "metadata": {},
     "output_type": "display_data"
    },
    {
     "name": "stdout",
     "output_type": "stream",
     "text": [
      "None\n"
     ]
    }
   ],
   "source": [
    "print(lstm_model.summary())"
   ]
  },
  {
   "cell_type": "markdown",
   "id": "c261a9a9-4268-4e81-9870-f81ef92f7aa3",
   "metadata": {},
   "source": [
    "## Results\n",
    "The model is not performing so well on the dataset. It is either overfitting, or there is just insufficient data to work with.\n",
    "\n",
    "### WRITE THIS NICER"
   ]
  },
  {
   "cell_type": "markdown",
   "id": "babe8dfb-da27-4fd5-a9c7-877ba983842c",
   "metadata": {},
   "source": [
    "## Function"
   ]
  },
  {
   "cell_type": "code",
   "execution_count": null,
   "id": "21710deb-d1d9-4744-ba0a-a5f972b712fb",
   "metadata": {},
   "outputs": [],
   "source": [
    "def sentimentFromImage(sentence):\n",
    "    # Preprocess and tokenize and give padding to the sentence\n",
    "    preprocessed_sentence = preprocess(sentence)\n",
    "    sequences = tokenizer.texts_to_sequences([preprocessed_sentence])\n",
    "    test_sequence = tf.keras.preprocessing.sequence.pad_sequences(sequences, maxlen = maxlen)\n",
    "\n",
    "    # Run the model\n",
    "    prediction = lstm_model.predict(test_sequence)\n",
    "    print(prediction)\n",
    "\n",
    "    # Find out the sentiment\n",
    "    prediction = np.argmax(prediction,axis=1)\n",
    "    predicted_labels = label_encoder.inverse_transform(prediction)\n",
    "    return predicted_labels[0]"
   ]
  },
  {
   "cell_type": "markdown",
   "id": "bc170f48-a1fe-4cb4-893f-dc7256625c7a",
   "metadata": {},
   "source": [
    "# Bringing Everything Together\n",
    "Now let's take the test images provided and run the entire pipeline. "
   ]
  },
  {
   "cell_type": "code",
   "execution_count": 305,
   "id": "daabb7fb-d5fe-426f-af19-14193d4dff55",
   "metadata": {},
   "outputs": [
    {
     "data": {
      "image/png": "[encoded data removed]",
      "text/plain": [
       "<Figure size 640x480 with 1 Axes>"
      ]
     },
     "metadata": {},
     "output_type": "display_data"
    },
    {
     "name": "stdout",
     "output_type": "stream",
     "text": [
      "Shape of the first image: (336, 280)\n"
     ]
    }
   ],
   "source": [
    "path = 'target_images'\n",
    "sorted_target_filenames = sorted(os.listdir(path))\n",
    "target_image_list = []\n",
    "for image in sorted_target_filenames:\n",
    "    img = Image.open(os.path.join(path, image))\n",
    "    img = np.array(img)\n",
    "    target_image_list.append(img)\n",
    "\n",
    "plt.imshow(target_image_list[0], cmap='gray')\n",
    "plt.title('First Image')\n",
    "plt.axis('off')\n",
    "plt.show()\n",
    "\n",
    "# Check the shape of the first image to confirm it has not been resized\n",
    "print(f'Shape of the first image: {target_image_list[0].shape}')"
   ]
  },
  {
   "cell_type": "code",
   "execution_count": 306,
   "id": "6177762f-4367-4f05-b93e-20f799471d22",
   "metadata": {},
   "outputs": [
    {
     "ename": "ValueError",
     "evalue": "Exception encountered when calling Sequential.call().\n\n\u001b[1mInvalid input shape for input Tensor(\"sequential_32_1/Cast:0\", shape=(1, 28, 28), dtype=float32). Expected shape (None, 10), but input has incompatible shape (1, 28, 28)\u001b[0m\n\nArguments received by Sequential.call():\n  • inputs=tf.Tensor(shape=(1, 28, 28), dtype=uint8)\n  • training=False\n  • mask=None",
     "output_type": "error",
     "traceback": [
      "\u001b[0;31m---------------------------------------------------------------------------\u001b[0m",
      "\u001b[0;31mValueError\u001b[0m                                Traceback (most recent call last)",
      "Cell \u001b[0;32mIn[306], line 3\u001b[0m\n\u001b[1;32m      1\u001b[0m \u001b[38;5;28;01mfor\u001b[39;00m image \u001b[38;5;129;01min\u001b[39;00m target_image_list:\n\u001b[1;32m      2\u001b[0m     \u001b[38;5;66;03m# First convert it to text form\u001b[39;00m\n\u001b[0;32m----> 3\u001b[0m     text \u001b[38;5;241m=\u001b[39m \u001b[43msentenceFromImage\u001b[49m\u001b[43m(\u001b[49m\u001b[43mimage\u001b[49m\u001b[43m)\u001b[49m\n\u001b[1;32m      4\u001b[0m     \u001b[38;5;28mprint\u001b[39m(text)\n",
      "Cell \u001b[0;32mIn[202], line 11\u001b[0m, in \u001b[0;36msentenceFromImage\u001b[0;34m(target_image)\u001b[0m\n\u001b[1;32m      8\u001b[0m \u001b[38;5;28;01mfor\u001b[39;00m image \u001b[38;5;129;01min\u001b[39;00m tiles:\n\u001b[1;32m      9\u001b[0m     \u001b[38;5;66;03m# Convert image to right dimension and run model\u001b[39;00m\n\u001b[1;32m     10\u001b[0m     image \u001b[38;5;241m=\u001b[39m np\u001b[38;5;241m.\u001b[39mexpand_dims(image, \u001b[38;5;241m0\u001b[39m)\n\u001b[0;32m---> 11\u001b[0m     my_prediction \u001b[38;5;241m=\u001b[39m \u001b[43mmodel\u001b[49m\u001b[38;5;241;43m.\u001b[39;49m\u001b[43mpredict\u001b[49m\u001b[43m(\u001b[49m\u001b[43mimage\u001b[49m\u001b[43m,\u001b[49m\u001b[43m \u001b[49m\u001b[43mverbose\u001b[49m\u001b[38;5;241;43m=\u001b[39;49m\u001b[38;5;241;43m0\u001b[39;49m\u001b[43m)\u001b[49m\n\u001b[1;32m     13\u001b[0m     \u001b[38;5;66;03m# First check if it's a space\u001b[39;00m\n\u001b[1;32m     14\u001b[0m     \u001b[38;5;66;03m# Just check the 27th value since that should have been trained to give 0 for anything which looks remotely like a letter\u001b[39;00m\n\u001b[1;32m     15\u001b[0m     is_space \u001b[38;5;241m=\u001b[39m \u001b[38;5;241m0\u001b[39m\n",
      "File \u001b[0;32m~/miniconda3/envs/jupyter_env/lib/python3.10/site-packages/keras/src/utils/traceback_utils.py:122\u001b[0m, in \u001b[0;36mfilter_traceback.<locals>.error_handler\u001b[0;34m(*args, **kwargs)\u001b[0m\n\u001b[1;32m    119\u001b[0m     filtered_tb \u001b[38;5;241m=\u001b[39m _process_traceback_frames(e\u001b[38;5;241m.\u001b[39m__traceback__)\n\u001b[1;32m    120\u001b[0m     \u001b[38;5;66;03m# To get the full stack trace, call:\u001b[39;00m\n\u001b[1;32m    121\u001b[0m     \u001b[38;5;66;03m# `keras.config.disable_traceback_filtering()`\u001b[39;00m\n\u001b[0;32m--> 122\u001b[0m     \u001b[38;5;28;01mraise\u001b[39;00m e\u001b[38;5;241m.\u001b[39mwith_traceback(filtered_tb) \u001b[38;5;28;01mfrom\u001b[39;00m \u001b[38;5;28;01mNone\u001b[39;00m\n\u001b[1;32m    123\u001b[0m \u001b[38;5;28;01mfinally\u001b[39;00m:\n\u001b[1;32m    124\u001b[0m     \u001b[38;5;28;01mdel\u001b[39;00m filtered_tb\n",
      "File \u001b[0;32m~/miniconda3/envs/jupyter_env/lib/python3.10/site-packages/keras/src/models/functional.py:244\u001b[0m, in \u001b[0;36mFunctional._adjust_input_rank\u001b[0;34m(self, flat_inputs)\u001b[0m\n\u001b[1;32m    242\u001b[0m             adjusted\u001b[38;5;241m.\u001b[39mappend(ops\u001b[38;5;241m.\u001b[39mexpand_dims(x, axis\u001b[38;5;241m=\u001b[39m\u001b[38;5;241m-\u001b[39m\u001b[38;5;241m1\u001b[39m))\n\u001b[1;32m    243\u001b[0m             \u001b[38;5;28;01mcontinue\u001b[39;00m\n\u001b[0;32m--> 244\u001b[0m     \u001b[38;5;28;01mraise\u001b[39;00m \u001b[38;5;167;01mValueError\u001b[39;00m(\n\u001b[1;32m    245\u001b[0m         \u001b[38;5;124mf\u001b[39m\u001b[38;5;124m\"\u001b[39m\u001b[38;5;124mInvalid input shape for input \u001b[39m\u001b[38;5;132;01m{\u001b[39;00mx\u001b[38;5;132;01m}\u001b[39;00m\u001b[38;5;124m. Expected shape \u001b[39m\u001b[38;5;124m\"\u001b[39m\n\u001b[1;32m    246\u001b[0m         \u001b[38;5;124mf\u001b[39m\u001b[38;5;124m\"\u001b[39m\u001b[38;5;132;01m{\u001b[39;00mref_shape\u001b[38;5;132;01m}\u001b[39;00m\u001b[38;5;124m, but input has incompatible shape \u001b[39m\u001b[38;5;132;01m{\u001b[39;00mx\u001b[38;5;241m.\u001b[39mshape\u001b[38;5;132;01m}\u001b[39;00m\u001b[38;5;124m\"\u001b[39m\n\u001b[1;32m    247\u001b[0m     )\n\u001b[1;32m    248\u001b[0m \u001b[38;5;66;03m# Add back metadata.\u001b[39;00m\n\u001b[1;32m    249\u001b[0m \u001b[38;5;28;01mfor\u001b[39;00m i \u001b[38;5;129;01min\u001b[39;00m \u001b[38;5;28mrange\u001b[39m(\u001b[38;5;28mlen\u001b[39m(flat_inputs)):\n",
      "\u001b[0;31mValueError\u001b[0m: Exception encountered when calling Sequential.call().\n\n\u001b[1mInvalid input shape for input Tensor(\"sequential_32_1/Cast:0\", shape=(1, 28, 28), dtype=float32). Expected shape (None, 10), but input has incompatible shape (1, 28, 28)\u001b[0m\n\nArguments received by Sequential.call():\n  • inputs=tf.Tensor(shape=(1, 28, 28), dtype=uint8)\n  • training=False\n  • mask=None"
     ]
    }
   ],
   "source": [
    "for image in target_image_list:\n",
    "    # First convert it to text form\n",
    "    text = sentenceFromImage(image)\n",
    "    # Find the sentiment\n",
    "    sentiment = sentimentFromImage(text)\n",
    "    # Display the image\n",
    "    plt.imshow(image, cmap='gray')\n",
    "    plt.title('First Image')\n",
    "    plt.axis('off')\n",
    "    plt.show()\n",
    "    # Result\n",
    "    print(f'The above image says: {text} and has a sentiment of {sentiment}')"
   ]
  },
  {
   "cell_type": "markdown",
   "id": "c24fb9fd-7d1e-4c7b-90e4-c9c3f3ec5211",
   "metadata": {},
   "source": [
    "# References\n",
    "- For cutting up the image (that stackoverflow page which I can't find)\n",
    "- www.codecademy.com (for most of my learning about ML)\n",
    "- The OpenCV stuff for contour and boundary box detection (https://www.freedomvc.com/index.php/2021/06/26/contours-and-bounding-boxes/)\n",
    "- To learn sentiment analysis implementation: https://www.youtube.com/watch?v=Nk8nM2anJTw&ab_channel=StudyGyaan\n",
    "- GPT for teaching more sentiment analysis, as well as fixing and simplifying my code :)"
   ]
  },
  {
   "cell_type": "markdown",
   "id": "301cf117-5c2e-46f2-be74-de6c79ebeb35",
   "metadata": {},
   "source": [
    "# Temp Code Below"
   ]
  },
  {
   "cell_type": "code",
   "execution_count": 159,
   "id": "70eeef79-68f9-40ee-920d-45208b64b43a",
   "metadata": {},
   "outputs": [
    {
     "name": "stdout",
     "output_type": "stream",
     "text": [
      "<class 'numpy.ndarray'>\n"
     ]
    }
   ],
   "source": [
    "test_img = cv2.imread('alphabets_dataset/alphabet_images/image_1.png')\n",
    "test_img = cv2.cvtColor(test_img, cv2.COLOR_BGR2GRAY)\n",
    "test_img = cv2.resize(img, (28, 28))\n",
    "print(type(test_img))"
   ]
  }
 ],
 "metadata": {
  "kernelspec": {
   "display_name": "Python 3 (ipykernel)",
   "language": "python",
   "name": "python3"
  },
  "language_info": {
   "codemirror_mode": {
    "name": "ipython",
    "version": 3
   },
   "file_extension": ".py",
   "mimetype": "text/x-python",
   "name": "python",
   "nbconvert_exporter": "python",
   "pygments_lexer": "ipython3",
   "version": "3.10.13"
  }
 },
 "nbformat": 4,
 "nbformat_minor": 5
}
